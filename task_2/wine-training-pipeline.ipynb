{
 "cells": [
  {
   "cell_type": "code",
   "execution_count": 1,
   "id": "initial_id",
   "metadata": {
    "collapsed": true,
    "ExecuteTime": {
     "end_time": "2023-11-19T19:05:04.364027875Z",
     "start_time": "2023-11-19T19:05:03.428502024Z"
    }
   },
   "outputs": [],
   "source": [
    "# Env\n",
    "import os\n",
    "from dotenv import load_dotenv\n",
    "\n",
    "if not load_dotenv() or 'HOPSWORKS_API_KEY' not in os.environ:\n",
    "    print(\"Please provide a .env file add HOPSWORKS_API_KEY to it.\")\n",
    "    exit(1)\n",
    "\n",
    "# Imports\n",
    "import hopsworks\n",
    "import pandas as pd\n",
    "from sklearn.neighbors import KNeighborsClassifier\n",
    "from sklearn.ensemble import RandomForestClassifier\n",
    "from sklearn.linear_model import LinearRegression\n",
    "from sklearn.linear_model import LogisticRegression\n",
    "from sklearn.metrics import accuracy_score\n",
    "from sklearn.metrics import confusion_matrix\n",
    "from sklearn.metrics import classification_report\n",
    "import seaborn as sns\n",
    "from matplotlib import pyplot\n",
    "from hsml.schema import Schema\n",
    "from hsml.model_schema import ModelSchema\n",
    "import joblib\n",
    "import os\n",
    "import numpy as np\n",
    "\n",
    "# IDE help\n",
    "from hsfs import feature_store, feature_group, feature_view\n",
    "from hsfs.constructor import query as hsfs_query\n",
    "\n",
    "# Settings\n",
    "# - Hopsworks\n",
    "hopsworks_api_key_modal_secret_name = \"hopsworks-api-key\"  # Load secret to environment\n",
    "hopsworks_images_location = \"Resources/images\"\n",
    "# - - Names\n",
    "# - - - Models\n",
    "model_wine_dir = \"wine_models\"\n",
    "model_red_wine_name = \"wine_red_model\"\n",
    "model_red_wine_version = 1\n",
    "model_white_wine_name = \"wine_white_model\"\n",
    "model_white_wine_version = 1\n",
    "# - Feature Groups\n",
    "fg_wine_name = \"wine\"\n",
    "fg_wine_version = 1\n",
    "fg_type_red = \"red\"\n",
    "fg_type_white = \"white\"\n",
    "# - - - Feature Views\n",
    "fw_wine_red_name = \"wine_red\"\n",
    "fw_wine_red_version = 1\n",
    "fw_wine_white_name = \"wine_white\"\n",
    "fw_wine_white_version = 1\n",
    "# - - - Monitor\n",
    "fg_monitor_name = \"wine_predictions\"\n",
    "fg_monitor_version = 1\n",
    "dir_wine_saves = \"./latest_wine\"\n",
    "# file_wine_predict_save = f\"{dir_wine_saves}/latest_wine.png\"  # Don't know of a good picture for a rating\n",
    "# file_wine_actual_save = f\"{dir_wine_saves}/actual_wine.png\"  # Don't know of a good picture for a rating\n",
    "file_dataframe_save = f\"{dir_wine_saves}/df_recent.png\"\n",
    "file_confusion_matrix_save = f\"{dir_wine_saves}/confusion_matrix.png\"\n",
    "num_monitor_entries_to_export = 4"
   ]
  },
  {
   "cell_type": "code",
   "execution_count": 2,
   "outputs": [
    {
     "name": "stdout",
     "output_type": "stream",
     "text": [
      "Connected. Call `.close()` to terminate connection gracefully.\n",
      "\n",
      "Logged in to project, explore it here https://c.app.hopsworks.ai:443/p/201877\n",
      "Connected. Call `.close()` to terminate connection gracefully.\n"
     ]
    }
   ],
   "source": [
    "# Log in to Hopsworks and get feature store\n",
    "project = hopsworks.login()\n",
    "fs = project.get_feature_store()"
   ],
   "metadata": {
    "collapsed": false,
    "ExecuteTime": {
     "end_time": "2023-11-19T19:05:06.276298846Z",
     "start_time": "2023-11-19T19:05:04.406447815Z"
    }
   },
   "id": "1a4355bbc464bd23"
  },
  {
   "cell_type": "code",
   "execution_count": 3,
   "outputs": [
    {
     "name": "stderr",
     "output_type": "stream",
     "text": [
      "VersionWarning: No version provided for getting feature view `wine_red`, defaulting to `1`.\n"
     ]
    },
    {
     "name": "stdout",
     "output_type": "stream",
     "text": [
      "Red Wine fw exists.\n"
     ]
    },
    {
     "name": "stderr",
     "output_type": "stream",
     "text": [
      "VersionWarning: No version provided for getting feature view `wine_white`, defaulting to `1`.\n"
     ]
    },
    {
     "name": "stdout",
     "output_type": "stream",
     "text": [
      "White Wine fw exists.\n"
     ]
    }
   ],
   "source": [
    "wine_fg: feature_group.FeatureGroup = fs.get_feature_group(name=fg_wine_name, version=fg_wine_version)\n",
    "\n",
    "try:\n",
    "    wine_red_fw: feature_view.FeatureView = fs.get_feature_view(name=fw_wine_red_name)\n",
    "    print(\"Red Wine fw exists.\")\n",
    "except Exception as e:\n",
    "    print(\"Red Wine fw must be created.\")\n",
    "    wine_red_query: hsfs_query.Query = wine_fg.select_all()\n",
    "    wine_red_query.filter(wine_red_query[\"type\"] == fg_type_red)\n",
    "    wine_red_fw: feature_view.FeatureView = (\n",
    "        fs.get_or_create_feature_view(\n",
    "            name=fw_wine_red_name,\n",
    "            version=fw_wine_red_version,\n",
    "            description=\"Read red wines from wine dataset\",\n",
    "            labels=[\"quality\", \"type\"],\n",
    "            query=wine_red_query))\n",
    "    \n",
    "try:\n",
    "    wine_white_fw: feature_view.FeatureView = fs.get_feature_view(name=fw_wine_white_name)\n",
    "    print(\"White Wine fw exists.\")\n",
    "except Exception as e:\n",
    "    print(\"White Wine fw must be created.\")\n",
    "    wine_white_query: hsfs_query.Query = wine_fg.select_all()\n",
    "    wine_white_query.filter(wine_white_query[\"type\"] == fg_type_white)\n",
    "    wine_white_fw: feature_view.FeatureView = (\n",
    "        fs.get_or_create_feature_view(\n",
    "            name=fw_wine_white_name,\n",
    "            version=fw_wine_white_version,\n",
    "            description=\"Read from Wine dataset\",\n",
    "            labels=[\"quality\", \"type\"],\n",
    "            query=wine_white_query))\n"
   ],
   "metadata": {
    "collapsed": false,
    "ExecuteTime": {
     "end_time": "2023-11-19T19:05:08.268021624Z",
     "start_time": "2023-11-19T19:05:06.285701544Z"
    }
   },
   "id": "b80d797aa8ab3347"
  },
  {
   "cell_type": "markdown",
   "source": [
    "# Inspect Feature Views"
   ],
   "metadata": {
    "collapsed": false
   },
   "id": "bb41f3c3550015c0"
  },
  {
   "cell_type": "code",
   "execution_count": 4,
   "outputs": [
    {
     "data": {
      "text/plain": "[Training Dataset Feature('type', 'string', 0, True, None, None, 236925),\n Training Dataset Feature('fixed_acidity', 'double', 1, False, None, None, 236925),\n Training Dataset Feature('volatile_acidity', 'double', 2, False, None, None, 236925),\n Training Dataset Feature('citric_acid', 'double', 3, False, None, None, 236925),\n Training Dataset Feature('residual_sugar', 'double', 4, False, None, None, 236925),\n Training Dataset Feature('chlorides', 'double', 5, False, None, None, 236925),\n Training Dataset Feature('free_sulfur_dioxide', 'double', 6, False, None, None, 236925),\n Training Dataset Feature('total_sulfur_dioxide', 'double', 7, False, None, None, 236925),\n Training Dataset Feature('density', 'double', 8, False, None, None, 236925),\n Training Dataset Feature('ph', 'double', 9, False, None, None, 236925),\n Training Dataset Feature('sulphates', 'double', 10, False, None, None, 236925),\n Training Dataset Feature('alcohol', 'double', 11, False, None, None, 236925),\n Training Dataset Feature('quality', 'bigint', 12, True, None, None, 236925)]"
     },
     "execution_count": 4,
     "metadata": {},
     "output_type": "execute_result"
    }
   ],
   "source": [
    "wine_red_fw.features"
   ],
   "metadata": {
    "collapsed": false,
    "ExecuteTime": {
     "end_time": "2023-11-19T19:05:08.282037930Z",
     "start_time": "2023-11-19T19:05:08.273207451Z"
    }
   },
   "id": "63f975162263f4f9"
  },
  {
   "cell_type": "code",
   "execution_count": 5,
   "outputs": [
    {
     "data": {
      "text/plain": "'Read red wines from wine dataset'"
     },
     "execution_count": 5,
     "metadata": {},
     "output_type": "execute_result"
    }
   ],
   "source": [
    "wine_red_fw.description"
   ],
   "metadata": {
    "collapsed": false,
    "ExecuteTime": {
     "end_time": "2023-11-19T19:05:08.285430642Z",
     "start_time": "2023-11-19T19:05:08.277788961Z"
    }
   },
   "id": "28b985bf66fabf79"
  },
  {
   "cell_type": "code",
   "execution_count": 6,
   "outputs": [
    {
     "name": "stdout",
     "output_type": "stream",
     "text": [
      "Finished: Reading data from Hopsworks, using ArrowFlight (0.99s) \n"
     ]
    },
    {
     "data": {
      "text/plain": "     type  fixed_acidity  volatile_acidity  citric_acid  residual_sugar  \\\n0     red            8.8              0.37         0.48             2.1   \n1     red            8.8              0.59         0.18             2.9   \n2     red            6.8              0.64         0.03             2.3   \n3     red            6.3              0.68         0.01             3.7   \n4     red            6.9              0.49         0.19             1.7   \n...   ...            ...               ...          ...             ...   \n1352  red           12.5              0.56         0.49             2.4   \n1353  red            9.1              0.30         0.41             2.0   \n1354  red           11.7              0.45         0.63             2.2   \n1355  red            8.1              0.72         0.09             2.8   \n1356  red            6.6              0.56         0.14             2.4   \n\n      chlorides  free_sulfur_dioxide  total_sulfur_dioxide  density    ph  \\\n0         0.097                 39.0                 145.0  0.99750  3.04   \n1         0.089                 12.0                  74.0  0.99738  3.14   \n2         0.075                 14.0                  31.0  0.99545  3.36   \n3         0.103                 32.0                  54.0  0.99586  3.51   \n4         0.079                 13.0                  26.0  0.99547  3.38   \n...         ...                  ...                   ...      ...   ...   \n1352      0.064                  5.0                  27.0  0.99990  3.08   \n1353      0.068                 10.0                  24.0  0.99523  3.27   \n1354      0.073                  7.0                  23.0  0.99974  3.21   \n1355      0.084                 18.0                  49.0  0.99940  3.43   \n1356      0.064                 13.0                  29.0  0.99397  3.42   \n\n      sulphates  alcohol  quality  \n0          1.03      9.3        5  \n1          0.54      9.4        5  \n2          0.58     10.4        6  \n3          0.66     11.3        6  \n4          0.64      9.8        6  \n...         ...      ...      ...  \n1352       0.87     10.9        5  \n1353       0.85     11.7        7  \n1354       0.69     10.9        6  \n1355       0.72     11.1        6  \n1356       0.62     11.7        7  \n\n[1357 rows x 13 columns]",
      "text/html": "<div>\n<style scoped>\n    .dataframe tbody tr th:only-of-type {\n        vertical-align: middle;\n    }\n\n    .dataframe tbody tr th {\n        vertical-align: top;\n    }\n\n    .dataframe thead th {\n        text-align: right;\n    }\n</style>\n<table border=\"1\" class=\"dataframe\">\n  <thead>\n    <tr style=\"text-align: right;\">\n      <th></th>\n      <th>type</th>\n      <th>fixed_acidity</th>\n      <th>volatile_acidity</th>\n      <th>citric_acid</th>\n      <th>residual_sugar</th>\n      <th>chlorides</th>\n      <th>free_sulfur_dioxide</th>\n      <th>total_sulfur_dioxide</th>\n      <th>density</th>\n      <th>ph</th>\n      <th>sulphates</th>\n      <th>alcohol</th>\n      <th>quality</th>\n    </tr>\n  </thead>\n  <tbody>\n    <tr>\n      <th>0</th>\n      <td>red</td>\n      <td>8.8</td>\n      <td>0.37</td>\n      <td>0.48</td>\n      <td>2.1</td>\n      <td>0.097</td>\n      <td>39.0</td>\n      <td>145.0</td>\n      <td>0.99750</td>\n      <td>3.04</td>\n      <td>1.03</td>\n      <td>9.3</td>\n      <td>5</td>\n    </tr>\n    <tr>\n      <th>1</th>\n      <td>red</td>\n      <td>8.8</td>\n      <td>0.59</td>\n      <td>0.18</td>\n      <td>2.9</td>\n      <td>0.089</td>\n      <td>12.0</td>\n      <td>74.0</td>\n      <td>0.99738</td>\n      <td>3.14</td>\n      <td>0.54</td>\n      <td>9.4</td>\n      <td>5</td>\n    </tr>\n    <tr>\n      <th>2</th>\n      <td>red</td>\n      <td>6.8</td>\n      <td>0.64</td>\n      <td>0.03</td>\n      <td>2.3</td>\n      <td>0.075</td>\n      <td>14.0</td>\n      <td>31.0</td>\n      <td>0.99545</td>\n      <td>3.36</td>\n      <td>0.58</td>\n      <td>10.4</td>\n      <td>6</td>\n    </tr>\n    <tr>\n      <th>3</th>\n      <td>red</td>\n      <td>6.3</td>\n      <td>0.68</td>\n      <td>0.01</td>\n      <td>3.7</td>\n      <td>0.103</td>\n      <td>32.0</td>\n      <td>54.0</td>\n      <td>0.99586</td>\n      <td>3.51</td>\n      <td>0.66</td>\n      <td>11.3</td>\n      <td>6</td>\n    </tr>\n    <tr>\n      <th>4</th>\n      <td>red</td>\n      <td>6.9</td>\n      <td>0.49</td>\n      <td>0.19</td>\n      <td>1.7</td>\n      <td>0.079</td>\n      <td>13.0</td>\n      <td>26.0</td>\n      <td>0.99547</td>\n      <td>3.38</td>\n      <td>0.64</td>\n      <td>9.8</td>\n      <td>6</td>\n    </tr>\n    <tr>\n      <th>...</th>\n      <td>...</td>\n      <td>...</td>\n      <td>...</td>\n      <td>...</td>\n      <td>...</td>\n      <td>...</td>\n      <td>...</td>\n      <td>...</td>\n      <td>...</td>\n      <td>...</td>\n      <td>...</td>\n      <td>...</td>\n      <td>...</td>\n    </tr>\n    <tr>\n      <th>1352</th>\n      <td>red</td>\n      <td>12.5</td>\n      <td>0.56</td>\n      <td>0.49</td>\n      <td>2.4</td>\n      <td>0.064</td>\n      <td>5.0</td>\n      <td>27.0</td>\n      <td>0.99990</td>\n      <td>3.08</td>\n      <td>0.87</td>\n      <td>10.9</td>\n      <td>5</td>\n    </tr>\n    <tr>\n      <th>1353</th>\n      <td>red</td>\n      <td>9.1</td>\n      <td>0.30</td>\n      <td>0.41</td>\n      <td>2.0</td>\n      <td>0.068</td>\n      <td>10.0</td>\n      <td>24.0</td>\n      <td>0.99523</td>\n      <td>3.27</td>\n      <td>0.85</td>\n      <td>11.7</td>\n      <td>7</td>\n    </tr>\n    <tr>\n      <th>1354</th>\n      <td>red</td>\n      <td>11.7</td>\n      <td>0.45</td>\n      <td>0.63</td>\n      <td>2.2</td>\n      <td>0.073</td>\n      <td>7.0</td>\n      <td>23.0</td>\n      <td>0.99974</td>\n      <td>3.21</td>\n      <td>0.69</td>\n      <td>10.9</td>\n      <td>6</td>\n    </tr>\n    <tr>\n      <th>1355</th>\n      <td>red</td>\n      <td>8.1</td>\n      <td>0.72</td>\n      <td>0.09</td>\n      <td>2.8</td>\n      <td>0.084</td>\n      <td>18.0</td>\n      <td>49.0</td>\n      <td>0.99940</td>\n      <td>3.43</td>\n      <td>0.72</td>\n      <td>11.1</td>\n      <td>6</td>\n    </tr>\n    <tr>\n      <th>1356</th>\n      <td>red</td>\n      <td>6.6</td>\n      <td>0.56</td>\n      <td>0.14</td>\n      <td>2.4</td>\n      <td>0.064</td>\n      <td>13.0</td>\n      <td>29.0</td>\n      <td>0.99397</td>\n      <td>3.42</td>\n      <td>0.62</td>\n      <td>11.7</td>\n      <td>7</td>\n    </tr>\n  </tbody>\n</table>\n<p>1357 rows × 13 columns</p>\n</div>"
     },
     "execution_count": 6,
     "metadata": {},
     "output_type": "execute_result"
    }
   ],
   "source": [
    "wine_red_fw.query.read()"
   ],
   "metadata": {
    "collapsed": false,
    "ExecuteTime": {
     "end_time": "2023-11-19T19:05:10.448249682Z",
     "start_time": "2023-11-19T19:05:08.285255223Z"
    }
   },
   "id": "36418ea4706d669b"
  },
  {
   "cell_type": "code",
   "execution_count": 7,
   "outputs": [
    {
     "name": "stdout",
     "output_type": "stream",
     "text": [
      "Finished: Reading data from Hopsworks, using ArrowFlight (0.74s) \n"
     ]
    },
    {
     "data": {
      "text/plain": "       type  fixed_acidity  volatile_acidity  citric_acid  residual_sugar  \\\n0     white       6.800000          0.210000     0.550000       14.600000   \n1     white       7.000000          0.390000     0.310000        5.300000   \n2     white       6.300000          0.230000     0.330000        1.500000   \n3     white       7.000000          0.290000     0.370000        4.900000   \n4     white       7.300000          0.240000     0.430000        2.000000   \n...     ...            ...               ...          ...             ...   \n3958  white       6.600000          0.220000     0.350000        1.400000   \n3959  white       6.500000          0.430000     0.180000       13.150000   \n3960  white       8.800000          0.360000     0.440000        1.900000   \n3961  white       5.784863          0.306600     0.355189        5.189500   \n3962  white       6.304203          0.362896     0.359681        5.818094   \n\n      chlorides  free_sulfur_dioxide  total_sulfur_dioxide   density  \\\n0      0.053000            34.000000            159.000000  0.998050   \n1      0.169000            32.000000            162.000000  0.996500   \n2      0.036000            15.000000            105.000000  0.991000   \n3      0.034000            26.000000            127.000000  0.992800   \n4      0.021000            20.000000             69.000000  0.990000   \n...         ...                  ...                   ...       ...   \n3958   0.050000            23.000000             83.000000  0.990190   \n3959   0.032000            25.000000            131.000000  0.995650   \n3960   0.040000             9.000000            121.000000  0.995300   \n3961   0.056228            49.505870            122.875310  0.995321   \n3962   0.057031            77.964298            193.992034  0.994696   \n\n            ph  sulphates    alcohol  quality  \n0     2.930000   0.440000   9.200000        5  \n1     3.200000   0.480000   9.400000        5  \n2     3.320000   0.420000  11.200000        6  \n3     3.170000   0.440000  10.800000        6  \n4     3.080000   0.560000  12.200000        6  \n...        ...        ...        ...      ...  \n3958  3.170000   0.480000  12.000000        7  \n3959  3.230000   0.510000  10.700000        5  \n3960  3.190000   0.480000   9.900000        6  \n3961  3.146847   0.541047  12.600989        6  \n3962  3.186162   0.612304   8.697934        6  \n\n[3963 rows x 13 columns]",
      "text/html": "<div>\n<style scoped>\n    .dataframe tbody tr th:only-of-type {\n        vertical-align: middle;\n    }\n\n    .dataframe tbody tr th {\n        vertical-align: top;\n    }\n\n    .dataframe thead th {\n        text-align: right;\n    }\n</style>\n<table border=\"1\" class=\"dataframe\">\n  <thead>\n    <tr style=\"text-align: right;\">\n      <th></th>\n      <th>type</th>\n      <th>fixed_acidity</th>\n      <th>volatile_acidity</th>\n      <th>citric_acid</th>\n      <th>residual_sugar</th>\n      <th>chlorides</th>\n      <th>free_sulfur_dioxide</th>\n      <th>total_sulfur_dioxide</th>\n      <th>density</th>\n      <th>ph</th>\n      <th>sulphates</th>\n      <th>alcohol</th>\n      <th>quality</th>\n    </tr>\n  </thead>\n  <tbody>\n    <tr>\n      <th>0</th>\n      <td>white</td>\n      <td>6.800000</td>\n      <td>0.210000</td>\n      <td>0.550000</td>\n      <td>14.600000</td>\n      <td>0.053000</td>\n      <td>34.000000</td>\n      <td>159.000000</td>\n      <td>0.998050</td>\n      <td>2.930000</td>\n      <td>0.440000</td>\n      <td>9.200000</td>\n      <td>5</td>\n    </tr>\n    <tr>\n      <th>1</th>\n      <td>white</td>\n      <td>7.000000</td>\n      <td>0.390000</td>\n      <td>0.310000</td>\n      <td>5.300000</td>\n      <td>0.169000</td>\n      <td>32.000000</td>\n      <td>162.000000</td>\n      <td>0.996500</td>\n      <td>3.200000</td>\n      <td>0.480000</td>\n      <td>9.400000</td>\n      <td>5</td>\n    </tr>\n    <tr>\n      <th>2</th>\n      <td>white</td>\n      <td>6.300000</td>\n      <td>0.230000</td>\n      <td>0.330000</td>\n      <td>1.500000</td>\n      <td>0.036000</td>\n      <td>15.000000</td>\n      <td>105.000000</td>\n      <td>0.991000</td>\n      <td>3.320000</td>\n      <td>0.420000</td>\n      <td>11.200000</td>\n      <td>6</td>\n    </tr>\n    <tr>\n      <th>3</th>\n      <td>white</td>\n      <td>7.000000</td>\n      <td>0.290000</td>\n      <td>0.370000</td>\n      <td>4.900000</td>\n      <td>0.034000</td>\n      <td>26.000000</td>\n      <td>127.000000</td>\n      <td>0.992800</td>\n      <td>3.170000</td>\n      <td>0.440000</td>\n      <td>10.800000</td>\n      <td>6</td>\n    </tr>\n    <tr>\n      <th>4</th>\n      <td>white</td>\n      <td>7.300000</td>\n      <td>0.240000</td>\n      <td>0.430000</td>\n      <td>2.000000</td>\n      <td>0.021000</td>\n      <td>20.000000</td>\n      <td>69.000000</td>\n      <td>0.990000</td>\n      <td>3.080000</td>\n      <td>0.560000</td>\n      <td>12.200000</td>\n      <td>6</td>\n    </tr>\n    <tr>\n      <th>...</th>\n      <td>...</td>\n      <td>...</td>\n      <td>...</td>\n      <td>...</td>\n      <td>...</td>\n      <td>...</td>\n      <td>...</td>\n      <td>...</td>\n      <td>...</td>\n      <td>...</td>\n      <td>...</td>\n      <td>...</td>\n      <td>...</td>\n    </tr>\n    <tr>\n      <th>3958</th>\n      <td>white</td>\n      <td>6.600000</td>\n      <td>0.220000</td>\n      <td>0.350000</td>\n      <td>1.400000</td>\n      <td>0.050000</td>\n      <td>23.000000</td>\n      <td>83.000000</td>\n      <td>0.990190</td>\n      <td>3.170000</td>\n      <td>0.480000</td>\n      <td>12.000000</td>\n      <td>7</td>\n    </tr>\n    <tr>\n      <th>3959</th>\n      <td>white</td>\n      <td>6.500000</td>\n      <td>0.430000</td>\n      <td>0.180000</td>\n      <td>13.150000</td>\n      <td>0.032000</td>\n      <td>25.000000</td>\n      <td>131.000000</td>\n      <td>0.995650</td>\n      <td>3.230000</td>\n      <td>0.510000</td>\n      <td>10.700000</td>\n      <td>5</td>\n    </tr>\n    <tr>\n      <th>3960</th>\n      <td>white</td>\n      <td>8.800000</td>\n      <td>0.360000</td>\n      <td>0.440000</td>\n      <td>1.900000</td>\n      <td>0.040000</td>\n      <td>9.000000</td>\n      <td>121.000000</td>\n      <td>0.995300</td>\n      <td>3.190000</td>\n      <td>0.480000</td>\n      <td>9.900000</td>\n      <td>6</td>\n    </tr>\n    <tr>\n      <th>3961</th>\n      <td>white</td>\n      <td>5.784863</td>\n      <td>0.306600</td>\n      <td>0.355189</td>\n      <td>5.189500</td>\n      <td>0.056228</td>\n      <td>49.505870</td>\n      <td>122.875310</td>\n      <td>0.995321</td>\n      <td>3.146847</td>\n      <td>0.541047</td>\n      <td>12.600989</td>\n      <td>6</td>\n    </tr>\n    <tr>\n      <th>3962</th>\n      <td>white</td>\n      <td>6.304203</td>\n      <td>0.362896</td>\n      <td>0.359681</td>\n      <td>5.818094</td>\n      <td>0.057031</td>\n      <td>77.964298</td>\n      <td>193.992034</td>\n      <td>0.994696</td>\n      <td>3.186162</td>\n      <td>0.612304</td>\n      <td>8.697934</td>\n      <td>6</td>\n    </tr>\n  </tbody>\n</table>\n<p>3963 rows × 13 columns</p>\n</div>"
     },
     "execution_count": 7,
     "metadata": {},
     "output_type": "execute_result"
    }
   ],
   "source": [
    "wine_white_fw.query.read()"
   ],
   "metadata": {
    "collapsed": false,
    "ExecuteTime": {
     "end_time": "2023-11-19T19:05:11.724245777Z",
     "start_time": "2023-11-19T19:05:10.438567885Z"
    }
   },
   "id": "f8e9f15b9de89524"
  },
  {
   "cell_type": "markdown",
   "source": [
    "# Training"
   ],
   "metadata": {
    "collapsed": false
   },
   "id": "5a9493e888c9cfab"
  },
  {
   "cell_type": "markdown",
   "source": [
    "## Red Wine"
   ],
   "metadata": {
    "collapsed": false
   },
   "id": "6815971bd389d813"
  },
  {
   "cell_type": "code",
   "execution_count": 8,
   "outputs": [
    {
     "name": "stdout",
     "output_type": "stream",
     "text": [
      "Finished: Reading data from Hopsworks, using ArrowFlight (0.88s) \n"
     ]
    },
    {
     "name": "stderr",
     "output_type": "stream",
     "text": [
      "VersionWarning: Incremented version to `6`.\n",
      "FutureWarning: is_sparse is deprecated and will be removed in a future version. Check `isinstance(dtype, pd.SparseDtype)` instead.\n",
      "FutureWarning: is_sparse is deprecated and will be removed in a future version. Check `isinstance(dtype, pd.SparseDtype)` instead.\n",
      "FutureWarning: is_sparse is deprecated and will be removed in a future version. Check `isinstance(dtype, pd.SparseDtype)` instead.\n"
     ]
    },
    {
     "data": {
      "text/plain": "RandomForestClassifier()",
      "text/html": "<style>#sk-container-id-1 {color: black;background-color: white;}#sk-container-id-1 pre{padding: 0;}#sk-container-id-1 div.sk-toggleable {background-color: white;}#sk-container-id-1 label.sk-toggleable__label {cursor: pointer;display: block;width: 100%;margin-bottom: 0;padding: 0.3em;box-sizing: border-box;text-align: center;}#sk-container-id-1 label.sk-toggleable__label-arrow:before {content: \"▸\";float: left;margin-right: 0.25em;color: #696969;}#sk-container-id-1 label.sk-toggleable__label-arrow:hover:before {color: black;}#sk-container-id-1 div.sk-estimator:hover label.sk-toggleable__label-arrow:before {color: black;}#sk-container-id-1 div.sk-toggleable__content {max-height: 0;max-width: 0;overflow: hidden;text-align: left;background-color: #f0f8ff;}#sk-container-id-1 div.sk-toggleable__content pre {margin: 0.2em;color: black;border-radius: 0.25em;background-color: #f0f8ff;}#sk-container-id-1 input.sk-toggleable__control:checked~div.sk-toggleable__content {max-height: 200px;max-width: 100%;overflow: auto;}#sk-container-id-1 input.sk-toggleable__control:checked~label.sk-toggleable__label-arrow:before {content: \"▾\";}#sk-container-id-1 div.sk-estimator input.sk-toggleable__control:checked~label.sk-toggleable__label {background-color: #d4ebff;}#sk-container-id-1 div.sk-label input.sk-toggleable__control:checked~label.sk-toggleable__label {background-color: #d4ebff;}#sk-container-id-1 input.sk-hidden--visually {border: 0;clip: rect(1px 1px 1px 1px);clip: rect(1px, 1px, 1px, 1px);height: 1px;margin: -1px;overflow: hidden;padding: 0;position: absolute;width: 1px;}#sk-container-id-1 div.sk-estimator {font-family: monospace;background-color: #f0f8ff;border: 1px dotted black;border-radius: 0.25em;box-sizing: border-box;margin-bottom: 0.5em;}#sk-container-id-1 div.sk-estimator:hover {background-color: #d4ebff;}#sk-container-id-1 div.sk-parallel-item::after {content: \"\";width: 100%;border-bottom: 1px solid gray;flex-grow: 1;}#sk-container-id-1 div.sk-label:hover label.sk-toggleable__label {background-color: #d4ebff;}#sk-container-id-1 div.sk-serial::before {content: \"\";position: absolute;border-left: 1px solid gray;box-sizing: border-box;top: 0;bottom: 0;left: 50%;z-index: 0;}#sk-container-id-1 div.sk-serial {display: flex;flex-direction: column;align-items: center;background-color: white;padding-right: 0.2em;padding-left: 0.2em;position: relative;}#sk-container-id-1 div.sk-item {position: relative;z-index: 1;}#sk-container-id-1 div.sk-parallel {display: flex;align-items: stretch;justify-content: center;background-color: white;position: relative;}#sk-container-id-1 div.sk-item::before, #sk-container-id-1 div.sk-parallel-item::before {content: \"\";position: absolute;border-left: 1px solid gray;box-sizing: border-box;top: 0;bottom: 0;left: 50%;z-index: -1;}#sk-container-id-1 div.sk-parallel-item {display: flex;flex-direction: column;z-index: 1;position: relative;background-color: white;}#sk-container-id-1 div.sk-parallel-item:first-child::after {align-self: flex-end;width: 50%;}#sk-container-id-1 div.sk-parallel-item:last-child::after {align-self: flex-start;width: 50%;}#sk-container-id-1 div.sk-parallel-item:only-child::after {width: 0;}#sk-container-id-1 div.sk-dashed-wrapped {border: 1px dashed gray;margin: 0 0.4em 0.5em 0.4em;box-sizing: border-box;padding-bottom: 0.4em;background-color: white;}#sk-container-id-1 div.sk-label label {font-family: monospace;font-weight: bold;display: inline-block;line-height: 1.2em;}#sk-container-id-1 div.sk-label-container {text-align: center;}#sk-container-id-1 div.sk-container {/* jupyter's `normalize.less` sets `[hidden] { display: none; }` but bootstrap.min.css set `[hidden] { display: none !important; }` so we also need the `!important` here to be able to override the default hidden behavior on the sphinx rendered scikit-learn.org. See: https://github.com/scikit-learn/scikit-learn/issues/21755 */display: inline-block !important;position: relative;}#sk-container-id-1 div.sk-text-repr-fallback {display: none;}</style><div id=\"sk-container-id-1\" class=\"sk-top-container\"><div class=\"sk-text-repr-fallback\"><pre>RandomForestClassifier()</pre><b>In a Jupyter environment, please rerun this cell to show the HTML representation or trust the notebook. <br />On GitHub, the HTML representation is unable to render, please try loading this page with nbviewer.org.</b></div><div class=\"sk-container\" hidden><div class=\"sk-item\"><div class=\"sk-estimator sk-toggleable\"><input class=\"sk-toggleable__control sk-hidden--visually\" id=\"sk-estimator-id-1\" type=\"checkbox\" checked><label for=\"sk-estimator-id-1\" class=\"sk-toggleable__label sk-toggleable__label-arrow\">RandomForestClassifier</label><div class=\"sk-toggleable__content\"><pre>RandomForestClassifier()</pre></div></div></div></div></div>"
     },
     "execution_count": 8,
     "metadata": {},
     "output_type": "execute_result"
    }
   ],
   "source": [
    "# You can read training data, randomly split into train/test sets of features (X) and labels (y)        \n",
    "wine_red_X_train, wine_red_X_test, wine_red_y_train, wine_red_y_test = wine_red_fw.train_test_split(0.2)\n",
    "wine_red_y_train = wine_red_y_train.drop(columns=[\"type\"])\n",
    "wine_red_y_test = wine_red_y_test.drop(columns=[\"type\"])\n",
    "\n",
    "# I've tried so many different models. Let's just use RandomForestClassifier at this point... At least there is wisdom in the crowd.\n",
    "model_red_wine = RandomForestClassifier()\n",
    "model_red_wine.fit(wine_red_X_train, wine_red_y_train.values.ravel())"
   ],
   "metadata": {
    "collapsed": false,
    "ExecuteTime": {
     "end_time": "2023-11-19T19:05:15.661648342Z",
     "start_time": "2023-11-19T19:05:11.731576671Z"
    }
   },
   "id": "fd6dcd09b7113903"
  },
  {
   "cell_type": "code",
   "execution_count": 9,
   "outputs": [
    {
     "data": {
      "text/plain": "      fixed_acidity  volatile_acidity  citric_acid  residual_sugar  chlorides  \\\n1               8.8              0.59         0.18             2.9      0.089   \n2               6.8              0.64         0.03             2.3      0.075   \n3               6.3              0.68         0.01             3.7      0.103   \n4               6.9              0.49         0.19             1.7      0.079   \n5               8.3              0.28         0.48             2.1      0.093   \n...             ...               ...          ...             ...        ...   \n1352           12.5              0.56         0.49             2.4      0.064   \n1353            9.1              0.30         0.41             2.0      0.068   \n1354           11.7              0.45         0.63             2.2      0.073   \n1355            8.1              0.72         0.09             2.8      0.084   \n1356            6.6              0.56         0.14             2.4      0.064   \n\n      free_sulfur_dioxide  total_sulfur_dioxide  density    ph  sulphates  \\\n1                    12.0                  74.0  0.99738  3.14       0.54   \n2                    14.0                  31.0  0.99545  3.36       0.58   \n3                    32.0                  54.0  0.99586  3.51       0.66   \n4                    13.0                  26.0  0.99547  3.38       0.64   \n5                     6.0                  12.0  0.99408  3.26       0.62   \n...                   ...                   ...      ...   ...        ...   \n1352                  5.0                  27.0  0.99990  3.08       0.87   \n1353                 10.0                  24.0  0.99523  3.27       0.85   \n1354                  7.0                  23.0  0.99974  3.21       0.69   \n1355                 18.0                  49.0  0.99940  3.43       0.72   \n1356                 13.0                  29.0  0.99397  3.42       0.62   \n\n      alcohol  \n1         9.4  \n2        10.4  \n3        11.3  \n4         9.8  \n5        12.4  \n...       ...  \n1352     10.9  \n1353     11.7  \n1354     10.9  \n1355     11.1  \n1356     11.7  \n\n[1085 rows x 11 columns]",
      "text/html": "<div>\n<style scoped>\n    .dataframe tbody tr th:only-of-type {\n        vertical-align: middle;\n    }\n\n    .dataframe tbody tr th {\n        vertical-align: top;\n    }\n\n    .dataframe thead th {\n        text-align: right;\n    }\n</style>\n<table border=\"1\" class=\"dataframe\">\n  <thead>\n    <tr style=\"text-align: right;\">\n      <th></th>\n      <th>fixed_acidity</th>\n      <th>volatile_acidity</th>\n      <th>citric_acid</th>\n      <th>residual_sugar</th>\n      <th>chlorides</th>\n      <th>free_sulfur_dioxide</th>\n      <th>total_sulfur_dioxide</th>\n      <th>density</th>\n      <th>ph</th>\n      <th>sulphates</th>\n      <th>alcohol</th>\n    </tr>\n  </thead>\n  <tbody>\n    <tr>\n      <th>1</th>\n      <td>8.8</td>\n      <td>0.59</td>\n      <td>0.18</td>\n      <td>2.9</td>\n      <td>0.089</td>\n      <td>12.0</td>\n      <td>74.0</td>\n      <td>0.99738</td>\n      <td>3.14</td>\n      <td>0.54</td>\n      <td>9.4</td>\n    </tr>\n    <tr>\n      <th>2</th>\n      <td>6.8</td>\n      <td>0.64</td>\n      <td>0.03</td>\n      <td>2.3</td>\n      <td>0.075</td>\n      <td>14.0</td>\n      <td>31.0</td>\n      <td>0.99545</td>\n      <td>3.36</td>\n      <td>0.58</td>\n      <td>10.4</td>\n    </tr>\n    <tr>\n      <th>3</th>\n      <td>6.3</td>\n      <td>0.68</td>\n      <td>0.01</td>\n      <td>3.7</td>\n      <td>0.103</td>\n      <td>32.0</td>\n      <td>54.0</td>\n      <td>0.99586</td>\n      <td>3.51</td>\n      <td>0.66</td>\n      <td>11.3</td>\n    </tr>\n    <tr>\n      <th>4</th>\n      <td>6.9</td>\n      <td>0.49</td>\n      <td>0.19</td>\n      <td>1.7</td>\n      <td>0.079</td>\n      <td>13.0</td>\n      <td>26.0</td>\n      <td>0.99547</td>\n      <td>3.38</td>\n      <td>0.64</td>\n      <td>9.8</td>\n    </tr>\n    <tr>\n      <th>5</th>\n      <td>8.3</td>\n      <td>0.28</td>\n      <td>0.48</td>\n      <td>2.1</td>\n      <td>0.093</td>\n      <td>6.0</td>\n      <td>12.0</td>\n      <td>0.99408</td>\n      <td>3.26</td>\n      <td>0.62</td>\n      <td>12.4</td>\n    </tr>\n    <tr>\n      <th>...</th>\n      <td>...</td>\n      <td>...</td>\n      <td>...</td>\n      <td>...</td>\n      <td>...</td>\n      <td>...</td>\n      <td>...</td>\n      <td>...</td>\n      <td>...</td>\n      <td>...</td>\n      <td>...</td>\n    </tr>\n    <tr>\n      <th>1352</th>\n      <td>12.5</td>\n      <td>0.56</td>\n      <td>0.49</td>\n      <td>2.4</td>\n      <td>0.064</td>\n      <td>5.0</td>\n      <td>27.0</td>\n      <td>0.99990</td>\n      <td>3.08</td>\n      <td>0.87</td>\n      <td>10.9</td>\n    </tr>\n    <tr>\n      <th>1353</th>\n      <td>9.1</td>\n      <td>0.30</td>\n      <td>0.41</td>\n      <td>2.0</td>\n      <td>0.068</td>\n      <td>10.0</td>\n      <td>24.0</td>\n      <td>0.99523</td>\n      <td>3.27</td>\n      <td>0.85</td>\n      <td>11.7</td>\n    </tr>\n    <tr>\n      <th>1354</th>\n      <td>11.7</td>\n      <td>0.45</td>\n      <td>0.63</td>\n      <td>2.2</td>\n      <td>0.073</td>\n      <td>7.0</td>\n      <td>23.0</td>\n      <td>0.99974</td>\n      <td>3.21</td>\n      <td>0.69</td>\n      <td>10.9</td>\n    </tr>\n    <tr>\n      <th>1355</th>\n      <td>8.1</td>\n      <td>0.72</td>\n      <td>0.09</td>\n      <td>2.8</td>\n      <td>0.084</td>\n      <td>18.0</td>\n      <td>49.0</td>\n      <td>0.99940</td>\n      <td>3.43</td>\n      <td>0.72</td>\n      <td>11.1</td>\n    </tr>\n    <tr>\n      <th>1356</th>\n      <td>6.6</td>\n      <td>0.56</td>\n      <td>0.14</td>\n      <td>2.4</td>\n      <td>0.064</td>\n      <td>13.0</td>\n      <td>29.0</td>\n      <td>0.99397</td>\n      <td>3.42</td>\n      <td>0.62</td>\n      <td>11.7</td>\n    </tr>\n  </tbody>\n</table>\n<p>1085 rows × 11 columns</p>\n</div>"
     },
     "execution_count": 9,
     "metadata": {},
     "output_type": "execute_result"
    }
   ],
   "source": [
    "wine_red_X_train"
   ],
   "metadata": {
    "collapsed": false,
    "ExecuteTime": {
     "end_time": "2023-11-19T19:05:15.690759965Z",
     "start_time": "2023-11-19T19:05:15.671098130Z"
    }
   },
   "id": "57d24233a7b1165c"
  },
  {
   "cell_type": "code",
   "execution_count": 10,
   "outputs": [
    {
     "data": {
      "text/plain": "      quality\n1           5\n2           6\n3           6\n4           6\n5           7\n...       ...\n1352        5\n1353        7\n1354        6\n1355        6\n1356        7\n\n[1085 rows x 1 columns]",
      "text/html": "<div>\n<style scoped>\n    .dataframe tbody tr th:only-of-type {\n        vertical-align: middle;\n    }\n\n    .dataframe tbody tr th {\n        vertical-align: top;\n    }\n\n    .dataframe thead th {\n        text-align: right;\n    }\n</style>\n<table border=\"1\" class=\"dataframe\">\n  <thead>\n    <tr style=\"text-align: right;\">\n      <th></th>\n      <th>quality</th>\n    </tr>\n  </thead>\n  <tbody>\n    <tr>\n      <th>1</th>\n      <td>5</td>\n    </tr>\n    <tr>\n      <th>2</th>\n      <td>6</td>\n    </tr>\n    <tr>\n      <th>3</th>\n      <td>6</td>\n    </tr>\n    <tr>\n      <th>4</th>\n      <td>6</td>\n    </tr>\n    <tr>\n      <th>5</th>\n      <td>7</td>\n    </tr>\n    <tr>\n      <th>...</th>\n      <td>...</td>\n    </tr>\n    <tr>\n      <th>1352</th>\n      <td>5</td>\n    </tr>\n    <tr>\n      <th>1353</th>\n      <td>7</td>\n    </tr>\n    <tr>\n      <th>1354</th>\n      <td>6</td>\n    </tr>\n    <tr>\n      <th>1355</th>\n      <td>6</td>\n    </tr>\n    <tr>\n      <th>1356</th>\n      <td>7</td>\n    </tr>\n  </tbody>\n</table>\n<p>1085 rows × 1 columns</p>\n</div>"
     },
     "execution_count": 10,
     "metadata": {},
     "output_type": "execute_result"
    }
   ],
   "source": [
    "wine_red_y_train"
   ],
   "metadata": {
    "collapsed": false,
    "ExecuteTime": {
     "end_time": "2023-11-19T19:05:15.702059978Z",
     "start_time": "2023-11-19T19:05:15.676956866Z"
    }
   },
   "id": "271a8e58dd38af71"
  },
  {
   "cell_type": "code",
   "execution_count": 11,
   "outputs": [
    {
     "name": "stderr",
     "output_type": "stream",
     "text": [
      "FutureWarning: is_sparse is deprecated and will be removed in a future version. Check `isinstance(dtype, pd.SparseDtype)` instead.\n",
      "FutureWarning: is_sparse is deprecated and will be removed in a future version. Check `isinstance(dtype, pd.SparseDtype)` instead.\n",
      "FutureWarning: is_sparse is deprecated and will be removed in a future version. Check `isinstance(dtype, pd.SparseDtype)` instead.\n",
      "UndefinedMetricWarning: Precision and F-score are ill-defined and being set to 0.0 in labels with no predicted samples. Use `zero_division` parameter to control this behavior.\n",
      "UndefinedMetricWarning: Precision and F-score are ill-defined and being set to 0.0 in labels with no predicted samples. Use `zero_division` parameter to control this behavior.\n",
      "UndefinedMetricWarning: Precision and F-score are ill-defined and being set to 0.0 in labels with no predicted samples. Use `zero_division` parameter to control this behavior.\n"
     ]
    }
   ],
   "source": [
    "# Evaluate model performance using the features from the test set (X_test)\n",
    "wine_red_y_pred = model_red_wine.predict(wine_red_X_test)\n",
    "\n",
    "# Compare predictions (y_pred) with the labels in the test set (y_test)\n",
    "wine_red_metrics = classification_report(wine_red_y_test, wine_red_y_pred, output_dict=True)\n",
    "wine_red_results = confusion_matrix(wine_red_y_test, wine_red_y_pred)\n",
    "wine_red_accuracy = accuracy_score(wine_red_y_test, wine_red_y_pred)"
   ],
   "metadata": {
    "collapsed": false,
    "ExecuteTime": {
     "end_time": "2023-11-19T19:05:15.843512350Z",
     "start_time": "2023-11-19T19:05:15.685655637Z"
    }
   },
   "id": "65b1244b7bd7f811"
  },
  {
   "cell_type": "code",
   "execution_count": 12,
   "outputs": [
    {
     "data": {
      "text/plain": "{'3': {'precision': 0.0, 'recall': 0.0, 'f1-score': 0.0, 'support': 2},\n '4': {'precision': 0.0, 'recall': 0.0, 'f1-score': 0.0, 'support': 11},\n '5': {'precision': 0.7016129032258065,\n  'recall': 0.7131147540983607,\n  'f1-score': 0.7073170731707318,\n  'support': 122},\n '6': {'precision': 0.5081967213114754,\n  'recall': 0.62,\n  'f1-score': 0.5585585585585586,\n  'support': 100},\n '7': {'precision': 0.52,\n  'recall': 0.37142857142857144,\n  'f1-score': 0.43333333333333335,\n  'support': 35},\n '8': {'precision': 0.0, 'recall': 0.0, 'f1-score': 0.0, 'support': 2},\n 'accuracy': 0.5955882352941176,\n 'macro avg': {'precision': 0.28830160408954697,\n  'recall': 0.2840905542544887,\n  'f1-score': 0.283201494177104,\n  'support': 272},\n 'weighted avg': {'precision': 0.5684428173702055,\n  'recall': 0.5955882352941176,\n  'f1-score': 0.5783647259167345,\n  'support': 272}}"
     },
     "execution_count": 12,
     "metadata": {},
     "output_type": "execute_result"
    }
   ],
   "source": [
    "wine_red_metrics"
   ],
   "metadata": {
    "collapsed": false,
    "ExecuteTime": {
     "end_time": "2023-11-19T19:05:15.843832090Z",
     "start_time": "2023-11-19T19:05:15.746524495Z"
    }
   },
   "id": "23bfab8f1acc199f"
  },
  {
   "cell_type": "markdown",
   "source": [
    "#### Error rate"
   ],
   "metadata": {
    "collapsed": false
   },
   "id": "56a3f371ad1e8873"
  },
  {
   "cell_type": "code",
   "execution_count": 13,
   "outputs": [
    {
     "name": "stdout",
     "output_type": "stream",
     "text": [
      "Total errors: 110\n",
      "Error rate: 40.44%\n",
      "Accuracy: 59.56%\n"
     ]
    }
   ],
   "source": [
    "# Calculate the total number of misclassified samples\n",
    "wine_red_total_errors = (wine_red_y_test.values.ravel() != wine_red_y_pred).sum()\n",
    "wine_red_total_predictions = len(wine_red_y_pred)\n",
    "wine_red_error_rate = wine_red_total_errors / wine_red_total_predictions\n",
    "\n",
    "# Print out the error details\n",
    "print(f\"Total errors: {wine_red_total_errors}\")\n",
    "print(f\"Error rate: {wine_red_error_rate:.2%}\")\n",
    "print(f\"Accuracy: {wine_red_accuracy:.2%}\")"
   ],
   "metadata": {
    "collapsed": false,
    "ExecuteTime": {
     "end_time": "2023-11-19T19:05:15.843957570Z",
     "start_time": "2023-11-19T19:05:15.746749265Z"
    }
   },
   "id": "cd26d97677c105d5"
  },
  {
   "cell_type": "markdown",
   "source": [
    "#### Confusion matrix"
   ],
   "metadata": {
    "collapsed": false
   },
   "id": "b97704f7712812be"
  },
  {
   "cell_type": "code",
   "execution_count": 14,
   "outputs": [
    {
     "data": {
      "text/plain": "<Figure size 640x480 with 2 Axes>",
      "image/png": "[encoded data removed]"
     },
     "metadata": {},
     "output_type": "display_data"
    }
   ],
   "source": [
    "# Create the confusion matrix as a figure, we will later store it as a PNG image file\n",
    "wine_red_true = [f\"True {prediction}\" for prediction in wine_red_metrics if prediction not in ['accuracy', 'macro avg', 'weighted avg']]\n",
    "wine_red_pred = [f\"Pred {prediction}\" for prediction in wine_red_metrics if prediction not in ['accuracy', 'macro avg', 'weighted avg']]\n",
    "\n",
    "wine_red_df_cm = pd.DataFrame(wine_red_results, wine_red_true, wine_red_pred)\n",
    "wine_red_cm = sns.heatmap(wine_red_df_cm, annot=True)\n",
    "wine_red_fig = wine_red_cm.get_figure()"
   ],
   "metadata": {
    "collapsed": false,
    "ExecuteTime": {
     "end_time": "2023-11-19T19:05:16.051472140Z",
     "start_time": "2023-11-19T19:05:15.746887484Z"
    }
   },
   "id": "f91f49e17b8be372"
  },
  {
   "cell_type": "code",
   "execution_count": 14,
   "outputs": [],
   "source": [],
   "metadata": {
    "collapsed": false,
    "ExecuteTime": {
     "end_time": "2023-11-19T19:05:16.131457334Z",
     "start_time": "2023-11-19T19:05:16.052049488Z"
    }
   },
   "id": "975dae0c6266c10d"
  },
  {
   "cell_type": "markdown",
   "source": [
    "## White Wine"
   ],
   "metadata": {
    "collapsed": false
   },
   "id": "f3d3cb56cf2f85b"
  },
  {
   "cell_type": "code",
   "execution_count": 15,
   "outputs": [
    {
     "name": "stdout",
     "output_type": "stream",
     "text": [
      "Finished: Reading data from Hopsworks, using ArrowFlight (1.01s) \n"
     ]
    },
    {
     "name": "stderr",
     "output_type": "stream",
     "text": [
      "VersionWarning: Incremented version to `2`.\n",
      "FutureWarning: is_sparse is deprecated and will be removed in a future version. Check `isinstance(dtype, pd.SparseDtype)` instead.\n",
      "FutureWarning: is_sparse is deprecated and will be removed in a future version. Check `isinstance(dtype, pd.SparseDtype)` instead.\n",
      "FutureWarning: is_sparse is deprecated and will be removed in a future version. Check `isinstance(dtype, pd.SparseDtype)` instead.\n"
     ]
    },
    {
     "data": {
      "text/plain": "      fixed_acidity  volatile_acidity  citric_acid  residual_sugar  chlorides  \\\n0          6.800000          0.210000     0.550000       14.600000   0.053000   \n1          7.000000          0.390000     0.310000        5.300000   0.169000   \n2          6.300000          0.230000     0.330000        1.500000   0.036000   \n3          7.000000          0.290000     0.370000        4.900000   0.034000   \n4          7.300000          0.240000     0.430000        2.000000   0.021000   \n...             ...               ...          ...             ...        ...   \n3958       6.600000          0.220000     0.350000        1.400000   0.050000   \n3959       6.500000          0.430000     0.180000       13.150000   0.032000   \n3960       8.800000          0.360000     0.440000        1.900000   0.040000   \n3961       5.784863          0.306600     0.355189        5.189500   0.056228   \n3962       6.304203          0.362896     0.359681        5.818094   0.057031   \n\n      free_sulfur_dioxide  total_sulfur_dioxide   density        ph  \\\n0               34.000000            159.000000  0.998050  2.930000   \n1               32.000000            162.000000  0.996500  3.200000   \n2               15.000000            105.000000  0.991000  3.320000   \n3               26.000000            127.000000  0.992800  3.170000   \n4               20.000000             69.000000  0.990000  3.080000   \n...                   ...                   ...       ...       ...   \n3958            23.000000             83.000000  0.990190  3.170000   \n3959            25.000000            131.000000  0.995650  3.230000   \n3960             9.000000            121.000000  0.995300  3.190000   \n3961            49.505870            122.875310  0.995321  3.146847   \n3962            77.964298            193.992034  0.994696  3.186162   \n\n      sulphates    alcohol  \n0      0.440000   9.200000  \n1      0.480000   9.400000  \n2      0.420000  11.200000  \n3      0.440000  10.800000  \n4      0.560000  12.200000  \n...         ...        ...  \n3958   0.480000  12.000000  \n3959   0.510000  10.700000  \n3960   0.480000   9.900000  \n3961   0.541047  12.600989  \n3962   0.612304   8.697934  \n\n[3170 rows x 11 columns]",
      "text/html": "<div>\n<style scoped>\n    .dataframe tbody tr th:only-of-type {\n        vertical-align: middle;\n    }\n\n    .dataframe tbody tr th {\n        vertical-align: top;\n    }\n\n    .dataframe thead th {\n        text-align: right;\n    }\n</style>\n<table border=\"1\" class=\"dataframe\">\n  <thead>\n    <tr style=\"text-align: right;\">\n      <th></th>\n      <th>fixed_acidity</th>\n      <th>volatile_acidity</th>\n      <th>citric_acid</th>\n      <th>residual_sugar</th>\n      <th>chlorides</th>\n      <th>free_sulfur_dioxide</th>\n      <th>total_sulfur_dioxide</th>\n      <th>density</th>\n      <th>ph</th>\n      <th>sulphates</th>\n      <th>alcohol</th>\n    </tr>\n  </thead>\n  <tbody>\n    <tr>\n      <th>0</th>\n      <td>6.800000</td>\n      <td>0.210000</td>\n      <td>0.550000</td>\n      <td>14.600000</td>\n      <td>0.053000</td>\n      <td>34.000000</td>\n      <td>159.000000</td>\n      <td>0.998050</td>\n      <td>2.930000</td>\n      <td>0.440000</td>\n      <td>9.200000</td>\n    </tr>\n    <tr>\n      <th>1</th>\n      <td>7.000000</td>\n      <td>0.390000</td>\n      <td>0.310000</td>\n      <td>5.300000</td>\n      <td>0.169000</td>\n      <td>32.000000</td>\n      <td>162.000000</td>\n      <td>0.996500</td>\n      <td>3.200000</td>\n      <td>0.480000</td>\n      <td>9.400000</td>\n    </tr>\n    <tr>\n      <th>2</th>\n      <td>6.300000</td>\n      <td>0.230000</td>\n      <td>0.330000</td>\n      <td>1.500000</td>\n      <td>0.036000</td>\n      <td>15.000000</td>\n      <td>105.000000</td>\n      <td>0.991000</td>\n      <td>3.320000</td>\n      <td>0.420000</td>\n      <td>11.200000</td>\n    </tr>\n    <tr>\n      <th>3</th>\n      <td>7.000000</td>\n      <td>0.290000</td>\n      <td>0.370000</td>\n      <td>4.900000</td>\n      <td>0.034000</td>\n      <td>26.000000</td>\n      <td>127.000000</td>\n      <td>0.992800</td>\n      <td>3.170000</td>\n      <td>0.440000</td>\n      <td>10.800000</td>\n    </tr>\n    <tr>\n      <th>4</th>\n      <td>7.300000</td>\n      <td>0.240000</td>\n      <td>0.430000</td>\n      <td>2.000000</td>\n      <td>0.021000</td>\n      <td>20.000000</td>\n      <td>69.000000</td>\n      <td>0.990000</td>\n      <td>3.080000</td>\n      <td>0.560000</td>\n      <td>12.200000</td>\n    </tr>\n    <tr>\n      <th>...</th>\n      <td>...</td>\n      <td>...</td>\n      <td>...</td>\n      <td>...</td>\n      <td>...</td>\n      <td>...</td>\n      <td>...</td>\n      <td>...</td>\n      <td>...</td>\n      <td>...</td>\n      <td>...</td>\n    </tr>\n    <tr>\n      <th>3958</th>\n      <td>6.600000</td>\n      <td>0.220000</td>\n      <td>0.350000</td>\n      <td>1.400000</td>\n      <td>0.050000</td>\n      <td>23.000000</td>\n      <td>83.000000</td>\n      <td>0.990190</td>\n      <td>3.170000</td>\n      <td>0.480000</td>\n      <td>12.000000</td>\n    </tr>\n    <tr>\n      <th>3959</th>\n      <td>6.500000</td>\n      <td>0.430000</td>\n      <td>0.180000</td>\n      <td>13.150000</td>\n      <td>0.032000</td>\n      <td>25.000000</td>\n      <td>131.000000</td>\n      <td>0.995650</td>\n      <td>3.230000</td>\n      <td>0.510000</td>\n      <td>10.700000</td>\n    </tr>\n    <tr>\n      <th>3960</th>\n      <td>8.800000</td>\n      <td>0.360000</td>\n      <td>0.440000</td>\n      <td>1.900000</td>\n      <td>0.040000</td>\n      <td>9.000000</td>\n      <td>121.000000</td>\n      <td>0.995300</td>\n      <td>3.190000</td>\n      <td>0.480000</td>\n      <td>9.900000</td>\n    </tr>\n    <tr>\n      <th>3961</th>\n      <td>5.784863</td>\n      <td>0.306600</td>\n      <td>0.355189</td>\n      <td>5.189500</td>\n      <td>0.056228</td>\n      <td>49.505870</td>\n      <td>122.875310</td>\n      <td>0.995321</td>\n      <td>3.146847</td>\n      <td>0.541047</td>\n      <td>12.600989</td>\n    </tr>\n    <tr>\n      <th>3962</th>\n      <td>6.304203</td>\n      <td>0.362896</td>\n      <td>0.359681</td>\n      <td>5.818094</td>\n      <td>0.057031</td>\n      <td>77.964298</td>\n      <td>193.992034</td>\n      <td>0.994696</td>\n      <td>3.186162</td>\n      <td>0.612304</td>\n      <td>8.697934</td>\n    </tr>\n  </tbody>\n</table>\n<p>3170 rows × 11 columns</p>\n</div>"
     },
     "metadata": {},
     "output_type": "display_data"
    },
    {
     "data": {
      "text/plain": "      quality\n6           6\n11          6\n18          6\n19          5\n21          4\n...       ...\n3937        5\n3940        7\n3941        6\n3947        6\n3956        6\n\n[793 rows x 1 columns]",
      "text/html": "<div>\n<style scoped>\n    .dataframe tbody tr th:only-of-type {\n        vertical-align: middle;\n    }\n\n    .dataframe tbody tr th {\n        vertical-align: top;\n    }\n\n    .dataframe thead th {\n        text-align: right;\n    }\n</style>\n<table border=\"1\" class=\"dataframe\">\n  <thead>\n    <tr style=\"text-align: right;\">\n      <th></th>\n      <th>quality</th>\n    </tr>\n  </thead>\n  <tbody>\n    <tr>\n      <th>6</th>\n      <td>6</td>\n    </tr>\n    <tr>\n      <th>11</th>\n      <td>6</td>\n    </tr>\n    <tr>\n      <th>18</th>\n      <td>6</td>\n    </tr>\n    <tr>\n      <th>19</th>\n      <td>5</td>\n    </tr>\n    <tr>\n      <th>21</th>\n      <td>4</td>\n    </tr>\n    <tr>\n      <th>...</th>\n      <td>...</td>\n    </tr>\n    <tr>\n      <th>3937</th>\n      <td>5</td>\n    </tr>\n    <tr>\n      <th>3940</th>\n      <td>7</td>\n    </tr>\n    <tr>\n      <th>3941</th>\n      <td>6</td>\n    </tr>\n    <tr>\n      <th>3947</th>\n      <td>6</td>\n    </tr>\n    <tr>\n      <th>3956</th>\n      <td>6</td>\n    </tr>\n  </tbody>\n</table>\n<p>793 rows × 1 columns</p>\n</div>"
     },
     "metadata": {},
     "output_type": "display_data"
    },
    {
     "name": "stderr",
     "output_type": "stream",
     "text": [
      "FutureWarning: is_sparse is deprecated and will be removed in a future version. Check `isinstance(dtype, pd.SparseDtype)` instead.\n",
      "FutureWarning: is_sparse is deprecated and will be removed in a future version. Check `isinstance(dtype, pd.SparseDtype)` instead.\n",
      "FutureWarning: is_sparse is deprecated and will be removed in a future version. Check `isinstance(dtype, pd.SparseDtype)` instead.\n",
      "UndefinedMetricWarning: Precision and F-score are ill-defined and being set to 0.0 in labels with no predicted samples. Use `zero_division` parameter to control this behavior.\n",
      "UndefinedMetricWarning: Precision and F-score are ill-defined and being set to 0.0 in labels with no predicted samples. Use `zero_division` parameter to control this behavior.\n",
      "UndefinedMetricWarning: Precision and F-score are ill-defined and being set to 0.0 in labels with no predicted samples. Use `zero_division` parameter to control this behavior.\n"
     ]
    },
    {
     "data": {
      "text/plain": "{'3': {'precision': 0.0, 'recall': 0.0, 'f1-score': 0.0, 'support': 2},\n '4': {'precision': 0.5,\n  'recall': 0.15625,\n  'f1-score': 0.23809523809523808,\n  'support': 32},\n '5': {'precision': 0.6438356164383562,\n  'recall': 0.5826446280991735,\n  'f1-score': 0.6117136659436008,\n  'support': 242},\n '6': {'precision': 0.5521739130434783,\n  'recall': 0.7426900584795322,\n  'f1-score': 0.6334164588528679,\n  'support': 342},\n '7': {'precision': 0.5294117647058824,\n  'recall': 0.3673469387755102,\n  'f1-score': 0.4337349397590361,\n  'support': 147},\n '8': {'precision': 0.5,\n  'recall': 0.04,\n  'f1-score': 0.07407407407407407,\n  'support': 25},\n '9': {'precision': 0.0, 'recall': 0.0, 'f1-score': 0.0, 'support': 3},\n 'accuracy': 0.5737704918032787,\n 'macro avg': {'precision': 0.3893458991696738,\n  'recall': 0.26984737505060225,\n  'f1-score': 0.28443348238925953,\n  'support': 793},\n 'weighted avg': {'precision': 0.5686951158268808,\n  'recall': 0.5737704918032787,\n  'f1-score': 0.5521980727635687,\n  'support': 793}}"
     },
     "metadata": {},
     "output_type": "display_data"
    },
    {
     "name": "stdout",
     "output_type": "stream",
     "text": [
      "Total errors: 338\n",
      "Error rate: 42.62%\n",
      "Accuracy: 57.38%\n"
     ]
    },
    {
     "name": "stderr",
     "output_type": "stream",
     "text": [
      "FutureWarning: is_sparse is deprecated and will be removed in a future version. Check `isinstance(dtype, pd.SparseDtype)` instead.\n",
      "FutureWarning: is_sparse is deprecated and will be removed in a future version. Check `isinstance(dtype, pd.SparseDtype)` instead.\n",
      "FutureWarning: is_sparse is deprecated and will be removed in a future version. Check `isinstance(dtype, pd.SparseDtype)` instead.\n",
      "UndefinedMetricWarning: Precision and F-score are ill-defined and being set to 0.0 in labels with no predicted samples. Use `zero_division` parameter to control this behavior.\n",
      "UndefinedMetricWarning: Precision and F-score are ill-defined and being set to 0.0 in labels with no predicted samples. Use `zero_division` parameter to control this behavior.\n",
      "UndefinedMetricWarning: Precision and F-score are ill-defined and being set to 0.0 in labels with no predicted samples. Use `zero_division` parameter to control this behavior.\n"
     ]
    }
   ],
   "source": [
    "# You can read training data, randomly split into train/test sets of features (X) and labels (y)        \n",
    "wine_white_X_train, wine_white_X_test, wine_white_y_train, wine_white_y_test = wine_white_fw.train_test_split(0.2)\n",
    "wine_white_y_train = wine_white_y_train.drop(columns=[\"type\"])\n",
    "wine_white_y_test = wine_white_y_test.drop(columns=[\"type\"])\n",
    "\n",
    "# I've tried so many different models. Let's just use RandomForestClassifier at this point... At least there is wisdom in the crowd.\n",
    "model_white_wine = RandomForestClassifier()\n",
    "model_white_wine.fit(wine_white_X_train, wine_white_y_train.values.ravel())\n",
    "\n",
    "display(wine_white_X_train)\n",
    "display(wine_white_y_test)\n",
    "\n",
    "# Evaluate model performance using the features from the test set (X_test)\n",
    "wine_white_y_pred = model_white_wine.predict(wine_white_X_test)\n",
    "\n",
    "# Compare predictions (y_pred) with the labels in the test set (y_test)\n",
    "wine_white_metrics = classification_report(wine_white_y_test, wine_white_y_pred, output_dict=True)\n",
    "wine_white_results = confusion_matrix(wine_white_y_test, wine_white_y_pred)\n",
    "wine_white_accuracy = accuracy_score(wine_white_y_test, wine_white_y_pred)\n",
    "\n",
    "display(wine_white_metrics)\n",
    "\n",
    "# Evaluate model performance using the features from the test set (X_test)\n",
    "wine_white_y_pred = model_white_wine.predict(wine_white_X_test)\n",
    "\n",
    "# Compare predictions (y_pred) with the labels in the test set (y_test)\n",
    "wine_white_metrics = classification_report(wine_white_y_test, wine_white_y_pred, output_dict=True)\n",
    "wine_white_results = confusion_matrix(wine_white_y_test, wine_white_y_pred)\n",
    "wine_white_accuracy = accuracy_score(wine_white_y_test, wine_white_y_pred)\n",
    "\n",
    "# Calculate the total number of misclassified samples\n",
    "wine_white_total_errors = (wine_white_y_test.values.ravel() != wine_white_y_pred).sum()\n",
    "wine_white_total_predictions = len(wine_white_y_pred)\n",
    "wine_white_error_rate = wine_white_total_errors / wine_white_total_predictions\n",
    "\n",
    "# Print out the error details\n",
    "print(f\"Total errors: {wine_white_total_errors}\")\n",
    "print(f\"Error rate: {wine_white_error_rate:.2%}\")\n",
    "print(f\"Accuracy: {wine_white_accuracy:.2%}\")"
   ],
   "metadata": {
    "collapsed": false,
    "ExecuteTime": {
     "end_time": "2023-11-19T19:05:21.422808880Z",
     "start_time": "2023-11-19T19:05:16.094538280Z"
    }
   },
   "id": "9f9b87e1cb5b54d4"
  },
  {
   "cell_type": "code",
   "execution_count": 16,
   "outputs": [
    {
     "data": {
      "text/plain": "<Figure size 640x480 with 2 Axes>",
      "image/png": "[encoded data removed]"
     },
     "metadata": {},
     "output_type": "display_data"
    }
   ],
   "source": [
    "# Create the confusion matrix as a figure, we will later store it as a PNG image file\n",
    "wine_white_true = [f\"True {prediction}\" for prediction in wine_white_metrics if prediction not in ['accuracy', 'macro avg', 'weighted avg']]\n",
    "wine_white_pred = [f\"Pred {prediction}\" for prediction in wine_white_metrics if prediction not in ['accuracy', 'macro avg', 'weighted avg']]\n",
    "\n",
    "wine_white_df_cm = pd.DataFrame(wine_white_results, wine_white_true, wine_white_pred)\n",
    "wine_white_cm = sns.heatmap(wine_white_df_cm, annot=True)\n",
    "wine_white_fig = wine_white_cm.get_figure()"
   ],
   "metadata": {
    "collapsed": false,
    "ExecuteTime": {
     "end_time": "2023-11-19T19:05:21.630563072Z",
     "start_time": "2023-11-19T19:05:21.336931368Z"
    }
   },
   "id": "4eb8b193ce459b49"
  },
  {
   "cell_type": "markdown",
   "source": [
    "# Upload"
   ],
   "metadata": {
    "collapsed": false
   },
   "id": "abf8f831013c1318"
  },
  {
   "cell_type": "code",
   "execution_count": 17,
   "outputs": [
    {
     "name": "stdout",
     "output_type": "stream",
     "text": [
      "Connected. Call `.close()` to terminate connection gracefully.\n"
     ]
    }
   ],
   "source": [
    "# We will now upload our model to the Hopsworks Model Registry. First get an object for the model registry.\n",
    "mr = project.get_model_registry()\n",
    "\n",
    "# Create the dir, first.\n",
    "if not os.path.isdir(model_wine_dir):\n",
    "    os.mkdir(model_wine_dir)"
   ],
   "metadata": {
    "collapsed": false,
    "ExecuteTime": {
     "end_time": "2023-11-19T19:05:23.247086967Z",
     "start_time": "2023-11-19T19:05:21.633317876Z"
    }
   },
   "id": "28f6e835a7e6aeeb"
  },
  {
   "cell_type": "code",
   "execution_count": 19,
   "outputs": [
    {
     "name": "stderr",
     "output_type": "stream",
     "text": [
      "DeprecationWarning: The `ipykernel.comm.Comm` class has been deprecated. Please use the `comm` module instead.For creating comms, use the function `from comm import create_comm`.\n"
     ]
    },
    {
     "data": {
      "text/plain": "  0%|          | 0/6 [00:00<?, ?it/s]",
      "application/vnd.jupyter.widget-view+json": {
       "version_major": 2,
       "version_minor": 0,
       "model_id": "b33c655a0a5844efaf2720f96b36e720"
      }
     },
     "metadata": {},
     "output_type": "display_data"
    },
    {
     "name": "stdout",
     "output_type": "stream",
     "text": [
      "Model created, explore it at https://c.app.hopsworks.ai:443/p/201877/models/wine_red_model/1\n"
     ]
    },
    {
     "data": {
      "text/plain": "Model(name: 'wine_red_model', version: 1)"
     },
     "execution_count": 19,
     "metadata": {},
     "output_type": "execute_result"
    }
   ],
   "source": [
    "# Save both our model and the confusion matrix to 'model_dir', whose contents will be uploaded to the model registry\n",
    "joblib.dump(model_red_wine, model_wine_dir + f\"/{model_red_wine_name}.pkl\")\n",
    "wine_red_fig.savefig(model_wine_dir + f\"/confusion_matrix-{model_red_wine_name}.png\")\n",
    "\n",
    "# Specify the schema of the model's input/output using the features (X_train) and labels (y_train)\n",
    "red_input_schema = Schema(wine_red_X_train)\n",
    "red_output_schema = Schema(wine_red_y_train)\n",
    "red_model_schema = ModelSchema(red_input_schema, red_output_schema)\n",
    "\n",
    "# Create an entry in the model registry that includes the model's name, desc, metrics\n",
    "red_wine_model = mr.python.create_model(\n",
    "    name=model_red_wine_name, \n",
    "    metrics={\"accuracy\": wine_red_metrics['accuracy']},\n",
    "    model_schema=red_model_schema,\n",
    "    description=\"Red Wine Quality Predictor\"\n",
    ")\n",
    "\n",
    "# Upload the model to the model registry, including all files in 'model_dir'\n",
    "red_wine_model.save(model_wine_dir)"
   ],
   "metadata": {
    "collapsed": false,
    "ExecuteTime": {
     "end_time": "2023-11-19T19:07:25.763912033Z",
     "start_time": "2023-11-19T19:07:07.838954431Z"
    }
   },
   "id": "f7f541f60e6a1165"
  },
  {
   "cell_type": "code",
   "execution_count": 21,
   "outputs": [
    {
     "name": "stderr",
     "output_type": "stream",
     "text": [
      "DeprecationWarning: The `ipykernel.comm.Comm` class has been deprecated. Please use the `comm` module instead.For creating comms, use the function `from comm import create_comm`.\n"
     ]
    },
    {
     "data": {
      "text/plain": "  0%|          | 0/6 [00:00<?, ?it/s]",
      "application/vnd.jupyter.widget-view+json": {
       "version_major": 2,
       "version_minor": 0,
       "model_id": "d106d772a124419b8a7fd193bda4e6e8"
      }
     },
     "metadata": {},
     "output_type": "display_data"
    },
    {
     "name": "stdout",
     "output_type": "stream",
     "text": [
      "Model created, explore it at https://c.app.hopsworks.ai:443/p/201877/models/wine_white_model/2\n"
     ]
    },
    {
     "data": {
      "text/plain": "Model(name: 'wine_white_model', version: 2)"
     },
     "execution_count": 21,
     "metadata": {},
     "output_type": "execute_result"
    }
   ],
   "source": [
    "# Save both our model and the confusion matrix to 'model_dir', whose contents will be uploaded to the model registry\n",
    "joblib.dump(model_white_wine, model_wine_dir + f\"/{model_white_wine_name}.pkl\")\n",
    "wine_white_fig.savefig(model_wine_dir + f\"/confusion_matrix-{model_white_wine_name}.png\")\n",
    "\n",
    "# Specify the schema of the model's input/output using the features (X_train) and labels (y_train)\n",
    "white_input_schema = Schema(wine_white_X_train)\n",
    "white_output_schema = Schema(wine_white_y_train)\n",
    "white_model_schema = ModelSchema(white_input_schema, white_output_schema)\n",
    "\n",
    "# Create an entry in the model registry that includes the model's name, desc, metrics\n",
    "white_wine_model = mr.python.create_model(\n",
    "    name=model_white_wine_name, \n",
    "    metrics={\"accuracy\": wine_white_metrics['accuracy']},\n",
    "    model_schema=white_model_schema,\n",
    "    description=\"White Wine Quality Predictor\"\n",
    ")\n",
    "\n",
    "# Upload the model to the model registry, including all files in 'model_dir'\n",
    "white_wine_model.save(model_wine_dir)"
   ],
   "metadata": {
    "collapsed": false,
    "ExecuteTime": {
     "end_time": "2023-11-19T19:09:40.353246569Z",
     "start_time": "2023-11-19T19:08:18.881857332Z"
    }
   },
   "id": "63b622f877b5337b"
  },
  {
   "cell_type": "code",
   "execution_count": null,
   "outputs": [],
   "source": [],
   "metadata": {
    "collapsed": false
   },
   "id": "63530f30a4df8478"
  }
 ],
 "metadata": {
  "kernelspec": {
   "display_name": "Python 3",
   "language": "python",
   "name": "python3"
  },
  "language_info": {
   "codemirror_mode": {
    "name": "ipython",
    "version": 2
   },
   "file_extension": ".py",
   "mimetype": "text/x-python",
   "name": "python",
   "nbconvert_exporter": "python",
   "pygments_lexer": "ipython2",
   "version": "2.7.6"
  }
 },
 "nbformat": 4,
 "nbformat_minor": 5
}
